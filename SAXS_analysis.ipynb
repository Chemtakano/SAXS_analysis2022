{
 "cells": [
  {
   "cell_type": "markdown",
   "metadata": {},
   "source": [
    "# SAXSの解析用コード　v1.0"
   ]
  },
  {
   "cell_type": "code",
   "execution_count": null,
   "metadata": {},
   "outputs": [],
   "source": [
    "import matplotlib.pyplot as plt\n",
    "import dataclass as dc\n",
    "import methods as mt\n",
    "import file_import as fi\n",
    "import os"
   ]
  },
  {
   "cell_type": "markdown",
   "metadata": {},
   "source": [
    "### データの指定\n",
    "解析用フォルダを設定してください。\n",
    "\n",
    "解析用フォルダには、ログシート（excel）、透過率のデータ（txt）、散乱データ（chi）ファイルを入れ、準備して下さい。winなら'/'を'¥'に変えてください。\n",
    "\n",
    "以下のコードを実行し、インプットボックスに指定されたものを入力してください。\n"
   ]
  },
  {
   "cell_type": "code",
   "execution_count": null,
   "metadata": {},
   "outputs": [],
   "source": [
    "Folder=input('フォルダのパスを入力してください。')\n",
    "LogS=Folder+'/'+input('ログシートのファイル名を入力してください。拡張子は必要ないです。')+'.xlsx'\n",
    "IC=Folder+'/'+input('透過率データのファイル名を入力してください。拡張子は必要ないです。')+'.txt'"
   ]
  },
  {
   "cell_type": "markdown",
   "metadata": {},
   "source": [
    "### (1) 絶対散乱強度補正定数算出の準備\n",
    "透過率補正、溶媒減算の実行。winなら'/'を'¥'に変えてください。以下のコードを実行してください。結果はフォルダー内の（analysed）というフォルダーに格納されます。"
   ]
  },
  {
   "cell_type": "code",
   "execution_count": null,
   "metadata": {},
   "outputs": [],
   "source": [
    "def save(newFolder):\n",
    "    os.mkdir(newFolder)\n",
    "    mt.trans_cor(LogS, IC, Dpath=Folder+'/', Spath=newFolder+'/')\n",
    "\n",
    "try:\n",
    "    save(Folder+'/analyzed')\n",
    "    print('解析終了。絶対散乱強度補正には、以下のコードを利用してください。')\n",
    "except FileExistsError:\n",
    "    try:\n",
    "        w=input('\"analyzed○○\"というフォルダーが存在します。保存を実行するために、何か文字や数字を入力してください。\"analyzed○○\"という名前で保存されます。')\n",
    "        save(Folder+'/analyzed'+w)\n",
    "        print('解析終了。絶対散乱強度補正には、以下のコードを利用してください。')\n",
    "    except FileExistsError:\n",
    "        print('そのファイルは既に存在します。もう一度実行し直してください。')\n"
   ]
  },
  {
   "cell_type": "markdown",
   "metadata": {},
   "source": [
    "### (2) 絶対散乱強度補正定数の算出\n",
    "\n",
    "（注意！）一番上のモジュールのインストールは実行してください。"
   ]
  },
  {
   "cell_type": "code",
   "execution_count": null,
   "metadata": {},
   "outputs": [],
   "source": [
    "dataFolder=input('データファイルの絶対パスを入力してください。')\n",
    "water=input('水のデータファイル名（.csv）を入力してください。拡張子は必要ないです。')\n",
    "capi=input('capiのデータファイル名（.csv）を入力してください。拡張子は必要ないです。')\n",
    "capiname=input('capiの名前を決めてください。')\n",
    "waterpath, capipath=dataFolder+'/'+water+'.csv', dataFolder+'/'+capi+'.csv'\n",
    "\n",
    "dfwater, dfcapi=fi.read_I_t(waterpath), fi.read_I_t(capipath)\n",
    "Water, Capi=dc.SAXSdata(dfwater), dc.SAXSdata(dfcapi)"
   ]
  },
  {
   "cell_type": "markdown",
   "metadata": {},
   "source": [
    "データをプロットし、平坦領域を決定する。"
   ]
  },
  {
   "cell_type": "code",
   "execution_count": null,
   "metadata": {},
   "outputs": [],
   "source": [
    "plt.plot(Water.q, Water.I-Capi.I, color='r', label='water-capi')\n",
    "Water.profile(color='b', label='water')\n",
    "Capi.profile(color='g', label='capi')\n",
    "plt.title('dicide the q range for caliculation.')\n",
    "plt.show()"
   ]
  },
  {
   "cell_type": "code",
   "execution_count": null,
   "metadata": {},
   "outputs": [],
   "source": [
    "minq=float(input('最小値を入力してください。'))\n",
    "maxq=float(input('最大値を入力してください。'))\n",
    "range='@minq < q < @maxq'\n",
    "\n",
    "newWater, newCapi=dc.SAXSdata(Water.df.query(range)), dc.SAXSdata(Capi.df.query(range))\n",
    "\n",
    "F=sum(newWater.I-newCapi.I)/len(newWater.q)\n",
    "\n",
    "plt.plot(newWater.q, newWater.I-newCapi.I, color='r')\n",
    "newWater.profile(color='b')\n",
    "newCapi.profile(color='g')\n",
    "plt.title('capi({}):F={}'.format(capiname, F))\n",
    "\n",
    "\n",
    "print('capi({})の補正定数は、{}です。画像の保存は、コードしていません。アウトプットは各自お願いします。'.format(capiname, F))"
   ]
  },
  {
   "cell_type": "markdown",
   "metadata": {},
   "source": [
    "### (3) データの透過率補正、溶媒減算、絶対散乱強度補正\n",
    "解析用フォルダを設定してください。\n",
    "\n",
    "解析用フォルダには、ログシート（excel）、透過率のデータ（txt）、散乱データ（chi）ファイルを入れ、準備して下さい。winなら'/'を'¥'に変えてください。\n",
    "ここでのログシートでは、補正定数も記入しておいてください。\n",
    "以下のコードを実行し、インプットボックスに指定されたものを入力してください。"
   ]
  },
  {
   "cell_type": "code",
   "execution_count": null,
   "metadata": {},
   "outputs": [],
   "source": [
    "Folder=input('フォルダのパスを入力してください。')\n",
    "LogS=Folder+'/'+input('ログシートのファイル名を入力してください。拡張子は必要ないです。')+'.xlsx'\n",
    "IC=Folder+'/'+input('透過率データのファイル名を入力してください。拡張子は必要ないです。')+'.txt'\n",
    "\n",
    "def save(newFolder):\n",
    "    os.mkdir(newFolder)\n",
    "    mt.trans_cor(LogS, IC, Dpath=Folder+'/', Spath=newFolder+'/')\n",
    "\n",
    "try:\n",
    "    save(Folder+'/analyzed')\n",
    "    print('解析終了。絶対散乱強度補正には、以下のコードを利用してください。')\n",
    "except FileExistsError:\n",
    "    try:\n",
    "        w=input('\"analyzed○○\"というフォルダーが存在します。保存を実行するために、何か文字や数字を入力してください。\"analyzed○○\"という名前で保存されます。')\n",
    "        save(Folder+'/analyzed'+w)\n",
    "        print('解析終了。絶対散乱強度補正には、以下のコードを利用してください。')\n",
    "    except FileExistsError:\n",
    "        print('そのファイルは既に存在します。もう一度実行し直してください。')"
   ]
  },
  {
   "cell_type": "markdown",
   "metadata": {},
   "source": [
    "## 追加事項\n",
    "データをプロットしたい時は、エクスポートしたデータのパスを'##'とすると、\n",
    "\n",
    "（溶媒減算後データの場合）\n",
    "name=dc.SAXSdata(fi.read_I_t_subsol('##'))\n",
    "name.profile()\n",
    "\n",
    "\n",
    "\n",
    "で作成可能。色は引数で指定できる。線の太さなどは、dataclass.pyファイルの編集が必要。"
   ]
  },
  {
   "cell_type": "code",
   "execution_count": null,
   "metadata": {},
   "outputs": [],
   "source": []
  }
 ],
 "metadata": {
  "kernelspec": {
   "display_name": "Python 3.10.6 64-bit ('3.10.6')",
   "language": "python",
   "name": "python3"
  },
  "language_info": {
   "codemirror_mode": {
    "name": "ipython",
    "version": 3
   },
   "file_extension": ".py",
   "mimetype": "text/x-python",
   "name": "python",
   "nbconvert_exporter": "python",
   "pygments_lexer": "ipython3",
   "version": "3.10.6"
  },
  "orig_nbformat": 4,
  "vscode": {
   "interpreter": {
    "hash": "3a2c8ce16f2b9e24439bc32a76700b7be1ee059471534fb7145b4afbd3af6d0a"
   }
  }
 },
 "nbformat": 4,
 "nbformat_minor": 2
}
